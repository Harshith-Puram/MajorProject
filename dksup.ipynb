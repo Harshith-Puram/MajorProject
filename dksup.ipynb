{
 "cells": [
  {
   "cell_type": "markdown",
   "metadata": {},
   "source": [
    "### 2-DkSup 3-approximation algorithm\n",
    "\n",
    "This algorithm is true for any metric space."
   ]
  },
  {
   "cell_type": "code",
   "execution_count": 5,
   "metadata": {},
   "outputs": [],
   "source": [
    "#assigning given variables\n",
    "\n",
    "C = [[],[]] #client locations\n",
    "F = [[],[]] #facility locations\n",
    "B = 10 #max movement by facilities\n",
    "k = 6 #no. of clusters"
   ]
  },
  {
   "cell_type": "code",
   "execution_count": 4,
   "metadata": {},
   "outputs": [],
   "source": [
    "#metric space distances between 2 points\n",
    "\n",
    "import math\n",
    "\n",
    "def euclidean_distance(x, y):\n",
    "    return math.sqrt(sum((a - b) ** 2 for a, b in zip(x, y)))\n",
    "\n",
    "def manhattan_distance(x, y):\n",
    "    return sum(abs(a - b) for a, b in zip(x, y))\n",
    "\n",
    "def chebyshev_distance(x, y):\n",
    "    return max(abs(a - b) for a, b in zip(x, y))\n",
    "\n",
    "#x = [1, 2] y = [4, 0]"
   ]
  },
  {
   "cell_type": "code",
   "execution_count": null,
   "metadata": {},
   "outputs": [],
   "source": [
    "# Need to fine R*\n",
    "\n",
    "#Binary search to find r*\n",
    "\n",
    "def find_optimal_radious(k, low=0.0, high=1e3, tol=1e-6, max_iter=100):\n",
    "    \"\"\"\n",
    "    Binary search for threshold x such that:\n",
    "      - For all t < x: get_num_clusters(t) > k\n",
    "      - For all t >= x: get_num_clusters(t) <= k\n",
    "    Arguments:\n",
    "      get_num_clusters: a function that takes a threshold t and returns the number of clusters\n",
    "      k: the desired number of clusters\n",
    "      low: lower bound of the search space\n",
    "      high: upper bound of the search space\n",
    "      tol: the precision tolerance (stop when high - low < tol)\n",
    "      max_iter: maximum number of iterations to prevent infinite loops\n",
    "\n",
    "    Returns:\n",
    "      x: the threshold at which the number of clusters first drops to <= k\n",
    "    \"\"\"\n",
    "\n",
    "\n"
   ]
  },
  {
   "cell_type": "code",
   "execution_count": null,
   "metadata": {},
   "outputs": [],
   "source": [
    "Ropt = find_optimal_radious(k)"
   ]
  },
  {
   "cell_type": "code",
   "execution_count": null,
   "metadata": {},
   "outputs": [],
   "source": [
    "#flow network\n",
    "\n",
    "#add layer11\n",
    "#add layer12\n",
    "#add layer21\n",
    "#add layer22\n",
    "#clear flow network\n",
    "#form edges\n",
    "#flow value k"
   ]
  },
  {
   "cell_type": "code",
   "execution_count": null,
   "metadata": {},
   "outputs": [],
   "source": [
    "\n",
    "\n",
    "\n",
    "\n"
   ]
  }
 ],
 "metadata": {
  "kernelspec": {
   "display_name": "Python 3",
   "language": "python",
   "name": "python3"
  },
  "language_info": {
   "codemirror_mode": {
    "name": "ipython",
    "version": 3
   },
   "file_extension": ".py",
   "mimetype": "text/x-python",
   "name": "python",
   "nbconvert_exporter": "python",
   "pygments_lexer": "ipython3",
   "version": "3.9.6"
  }
 },
 "nbformat": 4,
 "nbformat_minor": 2
}
