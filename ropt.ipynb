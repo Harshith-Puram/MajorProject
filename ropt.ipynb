{
 "cells": [
  {
   "cell_type": "code",
   "execution_count": 9,
   "metadata": {},
   "outputs": [],
   "source": [
    "import itertools\n",
    "from collections import defaultdict\n",
    "import networkx as nx\n",
    "import math"
   ]
  },
  {
   "cell_type": "code",
   "execution_count": null,
   "metadata": {},
   "outputs": [],
   "source": [
    "def euclidean(p1, p2):\n",
    "    return math.dist(p1, p2)\n",
    "\n",
    "def extract_candidate_distances(clients1, clients2, facilities1, facilities2, distance_fn):\n",
    "    distances = set()\n",
    "    for j in clients1 + clients2:\n",
    "        for i in facilities1 + facilities2:\n",
    "            distances.add(distance_fn(j, i))\n",
    "    return sorted(distances)\n",
    "\n",
    "def greedy_k_supplier(clients, facilities, k, R, distance_fn):\n",
    "    \"\"\"\n",
    "    Greedy algorithm: Place centers such that all clients are within R.\n",
    "    Each new facility covers as many uncovered clients as possible.\n",
    "    \"\"\"\n",
    "    uncovered = set(clients)\n",
    "    used_facilities = set()\n",
    "\n",
    "    while uncovered and len(used_facilities) < k:\n",
    "        # For each facility, count how many uncovered clients it can cover\n",
    "        best_f, covered = None, set()\n",
    "        for f in facilities:\n",
    "            covered_now = {j for j in uncovered if distance_fn(j, f) <= R}\n",
    "            if len(covered_now) > len(covered):\n",
    "                best_f, covered = f, covered_now\n",
    "\n",
    "        if not covered:\n",
    "            return None  # Can't cover remaining clients with current R\n",
    "\n",
    "        used_facilities.add(best_f)\n",
    "        uncovered -= covered\n",
    "\n",
    "    if uncovered:\n",
    "        return None #cant satisfy all clients with radius r\n",
    "    return used_facilities\n",
    "\n",
    "def build_bipartite_graph(facilities1, facilities2, B, distance_fn):\n",
    "    G = nx.Graph()\n",
    "    for i, f1 in enumerate(facilities1):\n",
    "        for j, f2 in enumerate(facilities2):\n",
    "            if distance_fn(f1, f2) <= B:\n",
    "                G.add_edge(f\"f1_{i}\", f\"f2_{j}\")\n",
    "    return G\n",
    "\n",
    "'''\n",
    "1. len different ho sakta hai set ka\n",
    "2. len < k ho sakta hai set ka\n",
    "3. final maximum perfect mapping edges = min(len(left), len(right))\n",
    "'''\n",
    "\n",
    "def has_valid_matching(G, k):\n",
    "    if G.number_of_edges() == 0:\n",
    "        return False\n",
    "    \n",
    "\n",
    "    ## modify\n",
    "    try:\n",
    "        matching = nx.bipartite.maximum_matching(G)\n",
    "        return len(matching) // 2 >= k\n",
    "    except nx.NetworkXPointlessConcept:\n",
    "        return False\n",
    "\n",
    "def is_feasible(R, B, clients1, clients2, facilities1, facilities2, k, distance_fn=euclidean):\n",
    "    S1 = greedy_k_supplier(clients1, facilities1, k, R, distance_fn)\n",
    "    S2 = greedy_k_supplier(clients2, facilities2, k, R, distance_fn)\n",
    "    if S1 is None or S2 is None:\n",
    "        return False\n",
    "\n",
    "    G = build_bipartite_graph(list(S1), list(S2), B, distance_fn)\n",
    "    return has_valid_matching(G, k)\n",
    "\n",
    "def binary_search_R_star(clients1, clients2, facilities1, facilities2, B, k, distance_fn=euclidean):\n",
    "    candidates = extract_candidate_distances(clients1, clients2, facilities1, facilities2, distance_fn)\n",
    "    low, high = 0, len(candidates) - 1\n",
    "    best_R = None\n",
    "\n",
    "    while low <= high:\n",
    "        mid = (low + high) // 2\n",
    "        R = candidates[mid]\n",
    "        if is_feasible(R, B, clients1, clients2, facilities1, facilities2, k, distance_fn):\n",
    "            best_R = R\n",
    "            high = mid - 1\n",
    "        else:\n",
    "            low = mid + 1\n",
    "\n",
    "    return best_R\n"
   ]
  },
  {
   "cell_type": "code",
   "execution_count": 13,
   "metadata": {},
   "outputs": [
    {
     "name": "stdout",
     "output_type": "stream",
     "text": [
      "Guessed R*: None\n"
     ]
    }
   ],
   "source": [
    "clients1 = [(0, 0), (1, 1)]\n",
    "clients2 = [(5, 5), (6, 6)]\n",
    "facilities1 = [(0, 1), (1, 0)]\n",
    "facilities2 = [(5, 6), (6, 5)]\n",
    "B = 2  # movement bound\n",
    "k = 2  # number of facilities\n",
    "\n",
    "R_star = binary_search_R_star(clients1, clients2, facilities1, facilities2, B, k)\n",
    "print(\"Guessed R*:\", R_star)\n"
   ]
  },
  {
   "cell_type": "code",
   "execution_count": null,
   "metadata": {},
   "outputs": [],
   "source": []
  }
 ],
 "metadata": {
  "kernelspec": {
   "display_name": "Python 3",
   "language": "python",
   "name": "python3"
  },
  "language_info": {
   "codemirror_mode": {
    "name": "ipython",
    "version": 3
   },
   "file_extension": ".py",
   "mimetype": "text/x-python",
   "name": "python",
   "nbconvert_exporter": "python",
   "pygments_lexer": "ipython3",
   "version": "3.9.6"
  }
 },
 "nbformat": 4,
 "nbformat_minor": 2
}
